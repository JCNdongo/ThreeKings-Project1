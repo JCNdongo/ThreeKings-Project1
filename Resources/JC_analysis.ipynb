{
 "cells": [
  {
   "cell_type": "code",
   "execution_count": 1,
   "id": "fb9d38ce",
   "metadata": {},
   "outputs": [],
   "source": [
    "import os\n",
    "import csv\n",
    "import pandas as pd\n",
    "import matplotlib.pyplot as plt\n",
    "import numpy as np\n",
    "import scipy.stats as st"
   ]
  },
  {
   "cell_type": "code",
   "execution_count": 2,
   "id": "2253c78c",
   "metadata": {},
   "outputs": [
    {
     "data": {
      "text/html": [
       "<div>\n",
       "<style scoped>\n",
       "    .dataframe tbody tr th:only-of-type {\n",
       "        vertical-align: middle;\n",
       "    }\n",
       "\n",
       "    .dataframe tbody tr th {\n",
       "        vertical-align: top;\n",
       "    }\n",
       "\n",
       "    .dataframe thead th {\n",
       "        text-align: right;\n",
       "    }\n",
       "</style>\n",
       "<table border=\"1\" class=\"dataframe\">\n",
       "  <thead>\n",
       "    <tr style=\"text-align: right;\">\n",
       "      <th></th>\n",
       "      <th>industry</th>\n",
       "      <th>occupation</th>\n",
       "      <th>yrs_qual</th>\n",
       "      <th>sex</th>\n",
       "      <th>highest_qual</th>\n",
       "      <th>area_of_study</th>\n",
       "      <th>influencing</th>\n",
       "      <th>negotiating</th>\n",
       "      <th>sector</th>\n",
       "      <th>workforce_change</th>\n",
       "      <th>...</th>\n",
       "      <th>advising</th>\n",
       "      <th>instructing</th>\n",
       "      <th>problem_solving_quick</th>\n",
       "      <th>problem_solving_long</th>\n",
       "      <th>labour</th>\n",
       "      <th>manual_skill</th>\n",
       "      <th>computer</th>\n",
       "      <th>group_meetings</th>\n",
       "      <th>computer_level</th>\n",
       "      <th>monthly_salary</th>\n",
       "    </tr>\n",
       "  </thead>\n",
       "  <tbody>\n",
       "    <tr>\n",
       "      <th>0</th>\n",
       "      <td>Q</td>\n",
       "      <td>2</td>\n",
       "      <td>19</td>\n",
       "      <td>1</td>\n",
       "      <td>13</td>\n",
       "      <td>4</td>\n",
       "      <td>2</td>\n",
       "      <td>1</td>\n",
       "      <td>1</td>\n",
       "      <td>3</td>\n",
       "      <td>...</td>\n",
       "      <td>5</td>\n",
       "      <td>4</td>\n",
       "      <td>5</td>\n",
       "      <td>4</td>\n",
       "      <td>4</td>\n",
       "      <td>5</td>\n",
       "      <td>1</td>\n",
       "      <td>1</td>\n",
       "      <td>2</td>\n",
       "      <td>23833.333333</td>\n",
       "    </tr>\n",
       "    <tr>\n",
       "      <th>1</th>\n",
       "      <td>C</td>\n",
       "      <td>9</td>\n",
       "      <td>14</td>\n",
       "      <td>1</td>\n",
       "      <td>11</td>\n",
       "      <td>7</td>\n",
       "      <td>4</td>\n",
       "      <td>2</td>\n",
       "      <td>1</td>\n",
       "      <td>1</td>\n",
       "      <td>...</td>\n",
       "      <td>5</td>\n",
       "      <td>3</td>\n",
       "      <td>5</td>\n",
       "      <td>3</td>\n",
       "      <td>4</td>\n",
       "      <td>5</td>\n",
       "      <td>1</td>\n",
       "      <td>1</td>\n",
       "      <td>1</td>\n",
       "      <td>6583.333333</td>\n",
       "    </tr>\n",
       "    <tr>\n",
       "      <th>2</th>\n",
       "      <td>L</td>\n",
       "      <td>3</td>\n",
       "      <td>16</td>\n",
       "      <td>2</td>\n",
       "      <td>12</td>\n",
       "      <td>4</td>\n",
       "      <td>2</td>\n",
       "      <td>1</td>\n",
       "      <td>1</td>\n",
       "      <td>3</td>\n",
       "      <td>...</td>\n",
       "      <td>3</td>\n",
       "      <td>1</td>\n",
       "      <td>4</td>\n",
       "      <td>2</td>\n",
       "      <td>1</td>\n",
       "      <td>5</td>\n",
       "      <td>1</td>\n",
       "      <td>1</td>\n",
       "      <td>2</td>\n",
       "      <td>433.333333</td>\n",
       "    </tr>\n",
       "    <tr>\n",
       "      <th>3</th>\n",
       "      <td>Q</td>\n",
       "      <td>5</td>\n",
       "      <td>12</td>\n",
       "      <td>2</td>\n",
       "      <td>7</td>\n",
       "      <td>4</td>\n",
       "      <td>5</td>\n",
       "      <td>4</td>\n",
       "      <td>2</td>\n",
       "      <td>1</td>\n",
       "      <td>...</td>\n",
       "      <td>5</td>\n",
       "      <td>2</td>\n",
       "      <td>5</td>\n",
       "      <td>2</td>\n",
       "      <td>5</td>\n",
       "      <td>5</td>\n",
       "      <td>2</td>\n",
       "      <td>1</td>\n",
       "      <td>0</td>\n",
       "      <td>379.000000</td>\n",
       "    </tr>\n",
       "    <tr>\n",
       "      <th>4</th>\n",
       "      <td>P</td>\n",
       "      <td>1</td>\n",
       "      <td>18</td>\n",
       "      <td>1</td>\n",
       "      <td>13</td>\n",
       "      <td>4</td>\n",
       "      <td>3</td>\n",
       "      <td>4</td>\n",
       "      <td>3</td>\n",
       "      <td>3</td>\n",
       "      <td>...</td>\n",
       "      <td>4</td>\n",
       "      <td>2</td>\n",
       "      <td>5</td>\n",
       "      <td>4</td>\n",
       "      <td>1</td>\n",
       "      <td>5</td>\n",
       "      <td>1</td>\n",
       "      <td>2</td>\n",
       "      <td>2</td>\n",
       "      <td>4583.333333</td>\n",
       "    </tr>\n",
       "  </tbody>\n",
       "</table>\n",
       "<p>5 rows × 28 columns</p>\n",
       "</div>"
      ],
      "text/plain": [
       "  industry  occupation  yrs_qual  sex  highest_qual  area_of_study  \\\n",
       "0        Q           2        19    1            13              4   \n",
       "1        C           9        14    1            11              7   \n",
       "2        L           3        16    2            12              4   \n",
       "3        Q           5        12    2             7              4   \n",
       "4        P           1        18    1            13              4   \n",
       "\n",
       "   influencing  negotiating  sector  workforce_change  ...  advising  \\\n",
       "0            2            1       1                 3  ...         5   \n",
       "1            4            2       1                 1  ...         5   \n",
       "2            2            1       1                 3  ...         3   \n",
       "3            5            4       2                 1  ...         5   \n",
       "4            3            4       3                 3  ...         4   \n",
       "\n",
       "   instructing  problem_solving_quick  problem_solving_long  labour  \\\n",
       "0            4                      5                     4       4   \n",
       "1            3                      5                     3       4   \n",
       "2            1                      4                     2       1   \n",
       "3            2                      5                     2       5   \n",
       "4            2                      5                     4       1   \n",
       "\n",
       "   manual_skill  computer  group_meetings  computer_level  monthly_salary  \n",
       "0             5         1               1               2    23833.333333  \n",
       "1             5         1               1               1     6583.333333  \n",
       "2             5         1               1               2      433.333333  \n",
       "3             5         2               1               0      379.000000  \n",
       "4             5         1               2               2     4583.333333  \n",
       "\n",
       "[5 rows x 28 columns]"
      ]
     },
     "execution_count": 2,
     "metadata": {},
     "output_type": "execute_result"
    }
   ],
   "source": [
    "#Read the salary csv file\n",
    "df = pd.read_csv('Resources/wage_predict.csv')\n",
    "df.head()"
   ]
  },
  {
   "cell_type": "code",
   "execution_count": 3,
   "id": "4cdd4cb0",
   "metadata": {},
   "outputs": [
    {
     "data": {
      "text/plain": [
       "Text(0.5, 1.0, 'Wages by Gender')"
      ]
     },
     "execution_count": 3,
     "metadata": {},
     "output_type": "execute_result"
    },
    {
     "data": {
      "image/png": "[encoded data removed]",
      "text/plain": [
       "<Figure size 432x288 with 1 Axes>"
      ]
     },
     "metadata": {
      "needs_background": "light"
     },
     "output_type": "display_data"
    }
   ],
   "source": [
    "#Determine the relationship between gender and monthly salary\n",
    "gender_df = df.groupby('sex').mean().monthly_salary.plot(kind=\"bar\")\n",
    "plt.xlabel('Gender')\n",
    "plt.ylabel('Monthly Salary')\n",
    "plt.xticks(np.arange(2), ['Male', 'Female'], rotation=360)\n",
    "plt.title('Wages by Gender')"
   ]
  },
  {
   "cell_type": "markdown",
   "id": "0108200f",
   "metadata": {},
   "source": [
    "## Conclusion of the analysis of wages by gender:\n",
    "\n",
    "- Our analysis indicates that, of all individuals surveyed in this study, men earned more than women. "
   ]
  },
  {
   "cell_type": "code",
   "execution_count": 4,
   "id": "93c4d785",
   "metadata": {},
   "outputs": [
    {
     "data": {
      "text/plain": [
       "Text(0.5, 1.0, 'Wages by Sector of Employment')"
      ]
     },
     "execution_count": 4,
     "metadata": {},
     "output_type": "execute_result"
    },
    {
     "data": {
      "image/png": "[encoded data removed]",
      "text/plain": [
       "<Figure size 432x288 with 1 Axes>"
      ]
     },
     "metadata": {
      "needs_background": "light"
     },
     "output_type": "display_data"
    }
   ],
   "source": [
    "#Determine the relationship between the sector of employment and monthly salary\n",
    "sector_df = df.groupby('sector').mean().monthly_salary.plot(kind=\"bar\")\n",
    "plt.xlabel('Sector of Employment')\n",
    "plt.ylabel('Monthly Salary')\n",
    "plt.xticks(np.arange(3), ['Private', 'Public', 'Non-Profit'], rotation=360)\n",
    "plt.title('Wages by Sector of Employment')"
   ]
  },
  {
   "cell_type": "markdown",
   "id": "ce78fb2a",
   "metadata": {},
   "source": [
    "## Conclusion of the analysis of wages by sector of employment:\n",
    "\n",
    "- The public sector is the highest paying sector, followed by non-profit, then the private sector. "
   ]
  },
  {
   "cell_type": "code",
   "execution_count": null,
   "id": "7e41142a",
   "metadata": {},
   "outputs": [],
   "source": []
  }
 ],
 "metadata": {
  "kernelspec": {
   "display_name": "PythonData",
   "language": "python",
   "name": "pythondata"
  },
  "language_info": {
   "codemirror_mode": {
    "name": "ipython",
    "version": 3
   },
   "file_extension": ".py",
   "mimetype": "text/x-python",
   "name": "python",
   "nbconvert_exporter": "python",
   "pygments_lexer": "ipython3",
   "version": "3.7.7"
  }
 },
 "nbformat": 4,
 "nbformat_minor": 5
}
