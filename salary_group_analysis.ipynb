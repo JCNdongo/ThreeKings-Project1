{
 "cells": [
  {
   "cell_type": "markdown",
   "id": "f0e20f15",
   "metadata": {},
   "source": [
    "## SALARY PREDICTOR GROUP PROJECT\n",
    "\n",
    "- Team members: Travis Ganaishlal, Julian Stark, and Jean-Claude Ndongo.\n",
    "- Purpose of the study: explain the difference in salaries among people using a Kaggle dataset (https://www.kaggle.com/datasets/hekkta/salary-predictor) \n",
    "- The dataset contains 28 variables and 2005 observations"
   ]
  },
  {
   "cell_type": "markdown",
   "id": "041a1226",
   "metadata": {},
   "source": [
    "# Variables  \n",
    "\n",
    "- Our analysis will determine the impact of the years of education, gender, levels of education, ability to influence others, sectors of employment, and levels of computer skills on monthly salary. \n",
    "- Y variable: Monthly salary (monthly_salary)\n",
    "- X variables: years of education (yrs_qual), gender (sex), levels of education (highest_qual), ability to influence others (influencing), sectors of employment (sector), and levels of computer skills (computer_level)."
   ]
  },
  {
   "cell_type": "markdown",
   "id": "c06b58c6",
   "metadata": {},
   "source": [
    "# Files Retrieval and Summary Statistics"
   ]
  },
  {
   "cell_type": "code",
   "execution_count": 1,
   "id": "4e5cc17a",
   "metadata": {},
   "outputs": [],
   "source": [
    "import os\n",
    "import csv\n",
    "import pandas as pd\n",
    "import matplotlib.pyplot as plt\n",
    "import numpy as np\n",
    "import scipy.stats as st\n",
    "import statsmodels.api as sm"
   ]
  },
  {
   "cell_type": "code",
   "execution_count": 2,
   "id": "3105964a",
   "metadata": {},
   "outputs": [
    {
     "data": {
      "text/html": [
       "<div>\n",
       "<style scoped>\n",
       "    .dataframe tbody tr th:only-of-type {\n",
       "        vertical-align: middle;\n",
       "    }\n",
       "\n",
       "    .dataframe tbody tr th {\n",
       "        vertical-align: top;\n",
       "    }\n",
       "\n",
       "    .dataframe thead th {\n",
       "        text-align: right;\n",
       "    }\n",
       "</style>\n",
       "<table border=\"1\" class=\"dataframe\">\n",
       "  <thead>\n",
       "    <tr style=\"text-align: right;\">\n",
       "      <th></th>\n",
       "      <th>industry</th>\n",
       "      <th>occupation</th>\n",
       "      <th>yrs_qual</th>\n",
       "      <th>sex</th>\n",
       "      <th>highest_qual</th>\n",
       "      <th>area_of_study</th>\n",
       "      <th>influencing</th>\n",
       "      <th>negotiating</th>\n",
       "      <th>sector</th>\n",
       "      <th>workforce_change</th>\n",
       "      <th>...</th>\n",
       "      <th>advising</th>\n",
       "      <th>instructing</th>\n",
       "      <th>problem_solving_quick</th>\n",
       "      <th>problem_solving_long</th>\n",
       "      <th>labour</th>\n",
       "      <th>manual_skill</th>\n",
       "      <th>computer</th>\n",
       "      <th>group_meetings</th>\n",
       "      <th>computer_level</th>\n",
       "      <th>monthly_salary</th>\n",
       "    </tr>\n",
       "  </thead>\n",
       "  <tbody>\n",
       "    <tr>\n",
       "      <th>0</th>\n",
       "      <td>Q</td>\n",
       "      <td>2</td>\n",
       "      <td>19</td>\n",
       "      <td>1</td>\n",
       "      <td>13</td>\n",
       "      <td>4</td>\n",
       "      <td>2</td>\n",
       "      <td>1</td>\n",
       "      <td>1</td>\n",
       "      <td>3</td>\n",
       "      <td>...</td>\n",
       "      <td>5</td>\n",
       "      <td>4</td>\n",
       "      <td>5</td>\n",
       "      <td>4</td>\n",
       "      <td>4</td>\n",
       "      <td>5</td>\n",
       "      <td>1</td>\n",
       "      <td>1</td>\n",
       "      <td>2</td>\n",
       "      <td>23833.333333</td>\n",
       "    </tr>\n",
       "    <tr>\n",
       "      <th>1</th>\n",
       "      <td>C</td>\n",
       "      <td>9</td>\n",
       "      <td>14</td>\n",
       "      <td>1</td>\n",
       "      <td>11</td>\n",
       "      <td>7</td>\n",
       "      <td>4</td>\n",
       "      <td>2</td>\n",
       "      <td>1</td>\n",
       "      <td>1</td>\n",
       "      <td>...</td>\n",
       "      <td>5</td>\n",
       "      <td>3</td>\n",
       "      <td>5</td>\n",
       "      <td>3</td>\n",
       "      <td>4</td>\n",
       "      <td>5</td>\n",
       "      <td>1</td>\n",
       "      <td>1</td>\n",
       "      <td>1</td>\n",
       "      <td>6583.333333</td>\n",
       "    </tr>\n",
       "    <tr>\n",
       "      <th>2</th>\n",
       "      <td>L</td>\n",
       "      <td>3</td>\n",
       "      <td>16</td>\n",
       "      <td>2</td>\n",
       "      <td>12</td>\n",
       "      <td>4</td>\n",
       "      <td>2</td>\n",
       "      <td>1</td>\n",
       "      <td>1</td>\n",
       "      <td>3</td>\n",
       "      <td>...</td>\n",
       "      <td>3</td>\n",
       "      <td>1</td>\n",
       "      <td>4</td>\n",
       "      <td>2</td>\n",
       "      <td>1</td>\n",
       "      <td>5</td>\n",
       "      <td>1</td>\n",
       "      <td>1</td>\n",
       "      <td>2</td>\n",
       "      <td>433.333333</td>\n",
       "    </tr>\n",
       "    <tr>\n",
       "      <th>3</th>\n",
       "      <td>Q</td>\n",
       "      <td>5</td>\n",
       "      <td>12</td>\n",
       "      <td>2</td>\n",
       "      <td>7</td>\n",
       "      <td>4</td>\n",
       "      <td>5</td>\n",
       "      <td>4</td>\n",
       "      <td>2</td>\n",
       "      <td>1</td>\n",
       "      <td>...</td>\n",
       "      <td>5</td>\n",
       "      <td>2</td>\n",
       "      <td>5</td>\n",
       "      <td>2</td>\n",
       "      <td>5</td>\n",
       "      <td>5</td>\n",
       "      <td>2</td>\n",
       "      <td>1</td>\n",
       "      <td>0</td>\n",
       "      <td>379.000000</td>\n",
       "    </tr>\n",
       "    <tr>\n",
       "      <th>4</th>\n",
       "      <td>P</td>\n",
       "      <td>1</td>\n",
       "      <td>18</td>\n",
       "      <td>1</td>\n",
       "      <td>13</td>\n",
       "      <td>4</td>\n",
       "      <td>3</td>\n",
       "      <td>4</td>\n",
       "      <td>3</td>\n",
       "      <td>3</td>\n",
       "      <td>...</td>\n",
       "      <td>4</td>\n",
       "      <td>2</td>\n",
       "      <td>5</td>\n",
       "      <td>4</td>\n",
       "      <td>1</td>\n",
       "      <td>5</td>\n",
       "      <td>1</td>\n",
       "      <td>2</td>\n",
       "      <td>2</td>\n",
       "      <td>4583.333333</td>\n",
       "    </tr>\n",
       "  </tbody>\n",
       "</table>\n",
       "<p>5 rows × 28 columns</p>\n",
       "</div>"
      ],
      "text/plain": [
       "  industry  occupation  yrs_qual  sex  highest_qual  area_of_study  \\\n",
       "0        Q           2        19    1            13              4   \n",
       "1        C           9        14    1            11              7   \n",
       "2        L           3        16    2            12              4   \n",
       "3        Q           5        12    2             7              4   \n",
       "4        P           1        18    1            13              4   \n",
       "\n",
       "   influencing  negotiating  sector  workforce_change  ...  advising  \\\n",
       "0            2            1       1                 3  ...         5   \n",
       "1            4            2       1                 1  ...         5   \n",
       "2            2            1       1                 3  ...         3   \n",
       "3            5            4       2                 1  ...         5   \n",
       "4            3            4       3                 3  ...         4   \n",
       "\n",
       "   instructing  problem_solving_quick  problem_solving_long  labour  \\\n",
       "0            4                      5                     4       4   \n",
       "1            3                      5                     3       4   \n",
       "2            1                      4                     2       1   \n",
       "3            2                      5                     2       5   \n",
       "4            2                      5                     4       1   \n",
       "\n",
       "   manual_skill  computer  group_meetings  computer_level  monthly_salary  \n",
       "0             5         1               1               2    23833.333333  \n",
       "1             5         1               1               1     6583.333333  \n",
       "2             5         1               1               2      433.333333  \n",
       "3             5         2               1               0      379.000000  \n",
       "4             5         1               2               2     4583.333333  \n",
       "\n",
       "[5 rows x 28 columns]"
      ]
     },
     "execution_count": 2,
     "metadata": {},
     "output_type": "execute_result"
    }
   ],
   "source": [
    "#Read the salary csv file\n",
    "df = pd.read_csv('Resources/wage_predict.csv')\n",
    "df.head()"
   ]
  },
  {
   "cell_type": "markdown",
   "id": "1d3fb2eb",
   "metadata": {},
   "source": [
    "Descriptive Statistics for Numerical Variables: "
   ]
  },
  {
   "cell_type": "code",
   "execution_count": 3,
   "id": "5c5d2c30",
   "metadata": {},
   "outputs": [
    {
     "data": {
      "text/html": [
       "<div>\n",
       "<style scoped>\n",
       "    .dataframe tbody tr th:only-of-type {\n",
       "        vertical-align: middle;\n",
       "    }\n",
       "\n",
       "    .dataframe tbody tr th {\n",
       "        vertical-align: top;\n",
       "    }\n",
       "\n",
       "    .dataframe thead th {\n",
       "        text-align: right;\n",
       "    }\n",
       "</style>\n",
       "<table border=\"1\" class=\"dataframe\">\n",
       "  <thead>\n",
       "    <tr style=\"text-align: right;\">\n",
       "      <th></th>\n",
       "      <th>monthly_salary</th>\n",
       "      <th>yrs_qual</th>\n",
       "      <th>highest_qual</th>\n",
       "      <th>influencing</th>\n",
       "    </tr>\n",
       "  </thead>\n",
       "  <tbody>\n",
       "    <tr>\n",
       "      <th>count</th>\n",
       "      <td>2005.000000</td>\n",
       "      <td>2005.000000</td>\n",
       "      <td>2005.000000</td>\n",
       "      <td>2005.000000</td>\n",
       "    </tr>\n",
       "    <tr>\n",
       "      <th>mean</th>\n",
       "      <td>4393.986833</td>\n",
       "      <td>13.877805</td>\n",
       "      <td>9.310723</td>\n",
       "      <td>3.316209</td>\n",
       "    </tr>\n",
       "    <tr>\n",
       "      <th>std</th>\n",
       "      <td>4679.512869</td>\n",
       "      <td>2.767168</td>\n",
       "      <td>3.059247</td>\n",
       "      <td>1.682291</td>\n",
       "    </tr>\n",
       "    <tr>\n",
       "      <th>min</th>\n",
       "      <td>34.666667</td>\n",
       "      <td>6.000000</td>\n",
       "      <td>1.000000</td>\n",
       "      <td>1.000000</td>\n",
       "    </tr>\n",
       "    <tr>\n",
       "      <th>25%</th>\n",
       "      <td>1859.000000</td>\n",
       "      <td>12.000000</td>\n",
       "      <td>7.000000</td>\n",
       "      <td>1.000000</td>\n",
       "    </tr>\n",
       "    <tr>\n",
       "      <th>50%</th>\n",
       "      <td>3253.466667</td>\n",
       "      <td>13.000000</td>\n",
       "      <td>9.000000</td>\n",
       "      <td>4.000000</td>\n",
       "    </tr>\n",
       "    <tr>\n",
       "      <th>75%</th>\n",
       "      <td>5458.333333</td>\n",
       "      <td>16.000000</td>\n",
       "      <td>12.000000</td>\n",
       "      <td>5.000000</td>\n",
       "    </tr>\n",
       "    <tr>\n",
       "      <th>max</th>\n",
       "      <td>68553.330000</td>\n",
       "      <td>21.000000</td>\n",
       "      <td>15.000000</td>\n",
       "      <td>5.000000</td>\n",
       "    </tr>\n",
       "  </tbody>\n",
       "</table>\n",
       "</div>"
      ],
      "text/plain": [
       "       monthly_salary     yrs_qual  highest_qual  influencing\n",
       "count     2005.000000  2005.000000   2005.000000  2005.000000\n",
       "mean      4393.986833    13.877805      9.310723     3.316209\n",
       "std       4679.512869     2.767168      3.059247     1.682291\n",
       "min         34.666667     6.000000      1.000000     1.000000\n",
       "25%       1859.000000    12.000000      7.000000     1.000000\n",
       "50%       3253.466667    13.000000      9.000000     4.000000\n",
       "75%       5458.333333    16.000000     12.000000     5.000000\n",
       "max      68553.330000    21.000000     15.000000     5.000000"
      ]
     },
     "execution_count": 3,
     "metadata": {},
     "output_type": "execute_result"
    }
   ],
   "source": [
    "#Descriptive statistics for the numerical variables of interest for our analysis\n",
    "df[[\"monthly_salary\",\"yrs_qual\",\"highest_qual\",\"influencing\"]].describe(include=\"all\")"
   ]
  },
  {
   "cell_type": "markdown",
   "id": "a5cdae84",
   "metadata": {},
   "source": [
    "Measures of Central Tendency for Y variable, monthly salary:"
   ]
  },
  {
   "cell_type": "code",
   "execution_count": 4,
   "id": "89040121",
   "metadata": {},
   "outputs": [
    {
     "name": "stdout",
     "output_type": "stream",
     "text": [
      "The mean monthly salary for this dataset is 4393.986832763268\n",
      "The median monthly salary for this dataset is 3253.4666667\n",
      "The mode monthly salary for this dataset is ModeResult(mode=array([1733.3333333]), count=array([30]))\n"
     ]
    }
   ],
   "source": [
    "#Calculate the measures of central tendency for the y variable, monthly salary\n",
    "wages = df['monthly_salary']\n",
    "\n",
    "mean_numpy = np.mean(wages)\n",
    "print(f\"The mean monthly salary for this dataset is {mean_numpy}\")\n",
    "\n",
    "median_numpy = np.median(wages)\n",
    "print(f\"The median monthly salary for this dataset is {median_numpy}\")\n",
    "      \n",
    "mode_scipy = st.mode(wages)\n",
    "print(f\"The mode monthly salary for this dataset is {mode_scipy}\")"
   ]
  },
  {
   "cell_type": "markdown",
   "id": "fac8bcd9",
   "metadata": {},
   "source": [
    "# Relationship between Experience and Wages"
   ]
  },
  {
   "cell_type": "code",
   "execution_count": 5,
   "id": "2c609ef8",
   "metadata": {},
   "outputs": [],
   "source": [
    "#pull variables for the columns needed\n",
    "years = df[\"yrs_qual\"]\n",
    "wage = df[\"monthly_salary\"]"
   ]
  },
  {
   "cell_type": "code",
   "execution_count": 6,
   "id": "098c4ee5",
   "metadata": {},
   "outputs": [
    {
     "data": {
      "image/png": "[encoded data removed]",
      "text/plain": [
       "<Figure size 432x288 with 1 Axes>"
      ]
     },
     "metadata": {
      "needs_background": "light"
     },
     "output_type": "display_data"
    }
   ],
   "source": [
    "ch1= df.groupby(years).mean()[\"monthly_salary\"]\n",
    "charts=ch1.plot(kind=\"bar\")\n",
    "charts.set_ylabel('Monthly Wage')\n",
    "charts.set_xlabel('Years of Experience')\n",
    "charts.set_title('Relationship between experience & Wages');"
   ]
  },
  {
   "cell_type": "markdown",
   "id": "2dd549a9",
   "metadata": {},
   "source": [
    "- Conclusion: Wages tend to increase with work experience but drop after approximately 19 years of experience."
   ]
  },
  {
   "cell_type": "markdown",
   "id": "2efaeabf",
   "metadata": {},
   "source": [
    "# Relationship between Computer Skills and Wages"
   ]
  },
  {
   "cell_type": "code",
   "execution_count": 7,
   "id": "043070f8",
   "metadata": {},
   "outputs": [],
   "source": [
    "# #pull variable for years worked and monthly wage\n",
    "comp = df[\"computer_level\"]\n",
    "wage = df[\"monthly_salary\"]"
   ]
  },
  {
   "cell_type": "code",
   "execution_count": 8,
   "id": "fce44d29",
   "metadata": {},
   "outputs": [
    {
     "data": {
      "image/png": "[encoded data removed]",
      "text/plain": [
       "<Figure size 432x288 with 1 Axes>"
      ]
     },
     "metadata": {
      "needs_background": "light"
     },
     "output_type": "display_data"
    }
   ],
   "source": [
    "chart_three=df.groupby(comp).mean()[\"monthly_salary\"]\n",
    "chart=chart_three.plot(kind=\"bar\")\n",
    "chart.set_ylabel(\"Monthly Wage\")\n",
    "chart.set_title(\"Relationship between Computer Skills and Wages\");"
   ]
  },
  {
   "cell_type": "markdown",
   "id": "87b52036",
   "metadata": {},
   "source": [
    "- Conclusion: Wages tend to increase with an increase in computer proficiency."
   ]
  },
  {
   "cell_type": "markdown",
   "id": "8a4cd37a",
   "metadata": {},
   "source": [
    "# Wages by Gender"
   ]
  },
  {
   "cell_type": "code",
   "execution_count": 9,
   "id": "48bd6f6a",
   "metadata": {},
   "outputs": [
    {
     "data": {
      "image/png": "[encoded data removed]",
      "text/plain": [
       "<Figure size 432x288 with 1 Axes>"
      ]
     },
     "metadata": {
      "needs_background": "light"
     },
     "output_type": "display_data"
    }
   ],
   "source": [
    "#Determine the relationship between gender and monthly salary\n",
    "gender_df = df.groupby('sex').mean().monthly_salary.plot(kind=\"bar\")\n",
    "plt.xlabel('Gender')\n",
    "plt.ylabel('Monthly Salary')\n",
    "plt.xticks(np.arange(2), ['Male', 'Female'], rotation=360)\n",
    "plt.title('Wages by Gender');"
   ]
  },
  {
   "cell_type": "markdown",
   "id": "b530ddc7",
   "metadata": {},
   "source": [
    " - Conclusion of the analysis of wages by gender:Our analysis indicates that, of all individuals surveyed in this study, men earned more than women."
   ]
  },
  {
   "cell_type": "markdown",
   "id": "1f309b0e",
   "metadata": {},
   "source": [
    "# Wages by Sector of Employment"
   ]
  },
  {
   "cell_type": "code",
   "execution_count": 10,
   "id": "3e30577f",
   "metadata": {},
   "outputs": [
    {
     "data": {
      "image/png": "[encoded data removed]",
      "text/plain": [
       "<Figure size 432x288 with 1 Axes>"
      ]
     },
     "metadata": {
      "needs_background": "light"
     },
     "output_type": "display_data"
    }
   ],
   "source": [
    "#Determine the relationship between the sector of employment and monthly salary\n",
    "sector_df = df.groupby('sector').mean().monthly_salary.plot(kind=\"bar\")\n",
    "plt.xlabel('Sector of Employment')\n",
    "plt.ylabel('Monthly Salary')\n",
    "plt.xticks(np.arange(3), ['Private', 'Public', 'Non-Profit'], rotation=360)\n",
    "plt.title('Wages by Sector of Employment');"
   ]
  },
  {
   "cell_type": "markdown",
   "id": "c23a876d",
   "metadata": {},
   "source": [
    "- Conclusion of the analysis of wages by sector of employment: the public sector is the highest paying sector, followed by non-profit, then the private sector. "
   ]
  },
  {
   "cell_type": "markdown",
   "id": "c98f13b6",
   "metadata": {},
   "source": [
    "# Correlation Between Education Levels and Salary"
   ]
  },
  {
   "cell_type": "code",
   "execution_count": 11,
   "id": "f9b16484",
   "metadata": {},
   "outputs": [
    {
     "name": "stdout",
     "output_type": "stream",
     "text": [
      "Correlation between education level and salary: 0.34\n"
     ]
    }
   ],
   "source": [
    "#Correlation between education level and salary \n",
    "corr = df['highest_qual'].corr(df['monthly_salary'])\n",
    "print(\"Correlation between education level and salary: {:.2f}\".format(corr))"
   ]
  },
  {
   "cell_type": "code",
   "execution_count": 12,
   "id": "8ee2970b",
   "metadata": {},
   "outputs": [
    {
     "name": "stdout",
     "output_type": "stream",
     "text": [
      "There is a significant difference in earnings between degree types (p-value = 0.0000)\n"
     ]
    }
   ],
   "source": [
    "# One-way ANOVA to test for significant differences in earnings between degree types\n",
    "degree_type = df.groupby('highest_qual')['monthly_salary'].apply(list)\n",
    "f_stat, p_val = st.f_oneway(*degree_type.values)\n",
    "if p_val < 0.05:\n",
    "    print(\"There is a significant difference in earnings between degree types (p-value = {:.4f})\".format(p_val))\n",
    "else:\n",
    "    print(\"There is no significant difference in earnings between degree types (p-value = {:.4f})\".format(p_val))"
   ]
  },
  {
   "cell_type": "markdown",
   "id": "45343bf3",
   "metadata": {},
   "source": [
    "Scatterplot of education level and salary"
   ]
  },
  {
   "cell_type": "markdown",
   "id": "26b56ae9",
   "metadata": {},
   "source": [
    "Box plot of earnings by degree type"
   ]
  },
  {
   "cell_type": "code",
   "execution_count": 13,
   "id": "61094a9f",
   "metadata": {},
   "outputs": [
    {
     "name": "stderr",
     "output_type": "stream",
     "text": [
      "C:\\Users\\mjndo\\anaconda3\\envs\\PythonData\\lib\\site-packages\\matplotlib\\cbook\\__init__.py:1376: VisibleDeprecationWarning: Creating an ndarray from ragged nested sequences (which is a list-or-tuple of lists-or-tuples-or ndarrays with different lengths or shapes) is deprecated. If you meant to do this, you must specify 'dtype=object' when creating the ndarray.\n",
      "  X = np.atleast_1d(X.T if isinstance(X, np.ndarray) else np.asarray(X))\n"
     ]
    },
    {
     "data": {
      "image/png": "[encoded data removed]",
      "text/plain": [
       "<Figure size 432x288 with 1 Axes>"
      ]
     },
     "metadata": {
      "needs_background": "light"
     },
     "output_type": "display_data"
    }
   ],
   "source": [
    "# Box plot of earnings by levels of qualification\n",
    "qual_df = df.boxplot(column='monthly_salary', by='highest_qual')\n",
    "plt.ylabel('Salary')\n",
    "plt.xlabel('Highest Qualification Levels')\n",
    "plt.title(\"\")\n",
    "plt.suptitle(\"Salary by Qualification Levels\")\n",
    "plt.show();"
   ]
  },
  {
   "cell_type": "markdown",
   "id": "9c8d840e",
   "metadata": {},
   "source": [
    "# Analysis of Influencing on Salary"
   ]
  },
  {
   "cell_type": "code",
   "execution_count": 14,
   "id": "8e1880a6",
   "metadata": {},
   "outputs": [
    {
     "name": "stdout",
     "output_type": "stream",
     "text": [
      "                            OLS Regression Results                            \n",
      "==============================================================================\n",
      "Dep. Variable:         monthly_salary   R-squared:                       0.021\n",
      "Model:                            OLS   Adj. R-squared:                  0.020\n",
      "Method:                 Least Squares   F-statistic:                     42.32\n",
      "Date:                Mon, 27 Mar 2023   Prob (F-statistic):           9.75e-11\n",
      "Time:                        20:04:00   Log-Likelihood:                -19768.\n",
      "No. Observations:                2005   AIC:                         3.954e+04\n",
      "Df Residuals:                    2003   BIC:                         3.955e+04\n",
      "Df Model:                           1                                         \n",
      "Covariance Type:            nonrobust                                         \n",
      "===============================================================================\n",
      "                  coef    std err          t      P>|t|      [0.025      0.975]\n",
      "-------------------------------------------------------------------------------\n",
      "const        3067.0649    228.700     13.411      0.000    2618.550    3515.580\n",
      "influencing   400.1321     61.506      6.506      0.000     279.509     520.755\n",
      "==============================================================================\n",
      "Omnibus:                     2484.740   Durbin-Watson:                   1.942\n",
      "Prob(Omnibus):                  0.000   Jarque-Bera (JB):           481567.539\n",
      "Skew:                           6.434   Prob(JB):                         0.00\n",
      "Kurtosis:                      77.825   Cond. No.                         8.70\n",
      "==============================================================================\n",
      "\n",
      "Notes:\n",
      "[1] Standard Errors assume that the covariance matrix of the errors is correctly specified.\n"
     ]
    }
   ],
   "source": [
    "# # Regression analysis of influencing on salary\n",
    "X = sm.add_constant(df['influencing'])\n",
    "model = sm.OLS(df['monthly_salary'], X)\n",
    "results = model.fit() \n",
    "print(results.summary())"
   ]
  },
  {
   "cell_type": "code",
   "execution_count": 15,
   "id": "b91e69df",
   "metadata": {},
   "outputs": [
    {
     "data": {
      "image/png": "[encoded data removed]",
      "text/plain": [
       "<Figure size 432x288 with 1 Axes>"
      ]
     },
     "metadata": {
      "needs_background": "light"
     },
     "output_type": "display_data"
    }
   ],
   "source": [
    "# Scatter plot with regression line\n",
    "Influencing_df = df.groupby('influencing').mean().monthly_salary.plot(kind=\"bar\")\n",
    "plt.xlabel('Ability to Influence')\n",
    "plt.ylabel('Monthly Salary')\n",
    "plt.xticks(np.arange(5), ['Never', 'Less than 1x/mo', 'Less than 1x/we', 'At least 1x/w', 'Everyday'], rotation=45)\n",
    "plt.title('Impact of Influencing on Wages');"
   ]
  },
  {
   "cell_type": "code",
   "execution_count": null,
   "id": "64ece157",
   "metadata": {},
   "outputs": [],
   "source": []
  }
 ],
 "metadata": {
  "kernelspec": {
   "display_name": "PythonData",
   "language": "python",
   "name": "pythondata"
  },
  "language_info": {
   "codemirror_mode": {
    "name": "ipython",
    "version": 3
   },
   "file_extension": ".py",
   "mimetype": "text/x-python",
   "name": "python",
   "nbconvert_exporter": "python",
   "pygments_lexer": "ipython3",
   "version": "3.7.7"
  }
 },
 "nbformat": 4,
 "nbformat_minor": 5
}
